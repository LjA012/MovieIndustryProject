{
 "cells": [
  {
   "cell_type": "code",
   "execution_count": 1,
   "metadata": {},
   "outputs": [],
   "source": [
    "import pandas as pd"
   ]
  },
  {
   "cell_type": "code",
   "execution_count": 2,
   "metadata": {},
   "outputs": [],
   "source": [
    "imdb_name_basics = pd.read_csv(\"zippedData/imdb.name.basics.csv\")\n",
    "imdb_title_akas = pd.read_csv(\"zippedData/imdb.title.akas.csv\")\n",
    "imdb_title_basics = pd.read_csv(\"zippedData/imdb.title.basics.csv\")\n",
    "imdb_title_crew = pd.read_csv(\"zippedData/imdb.title.crew.csv\")\n",
    "imdb_title_principals = pd.read_csv(\"zippedData/imdb.title.principals.csv\")\n",
    "imdb_title_ratings = pd.read_csv(\"zippedData/imdb.title.ratings.csv\")\n"
   ]
  },
  {
   "cell_type": "code",
   "execution_count": 3,
   "metadata": {},
   "outputs": [],
   "source": [
    "bom = pd.read_csv(\"zippedData/bom.movie_gross.csv\")"
   ]
  },
  {
   "cell_type": "code",
   "execution_count": 4,
   "metadata": {},
   "outputs": [],
   "source": [
    "rt_movie_info = pd.read_csv(\"zippedData/rt.movie_info.tsv\",sep=\"\\t\")\n",
    "rt_reviews = pd.read_csv(\"zippedData/rt.reviews.tsv\", sep=\"\\t\", encoding = \"ISO-8859-1\")\n"
   ]
  },
  {
   "cell_type": "code",
   "execution_count": 5,
   "metadata": {},
   "outputs": [],
   "source": [
    "tmdb = pd.read_csv(\"zippedData/tmdb.movies.csv\")"
   ]
  },
  {
   "cell_type": "code",
   "execution_count": 12,
   "metadata": {},
   "outputs": [],
   "source": [
    "tn_movie_budgets = pd.read_csv(\"zippedData/tn.movie_budgets.csv\")"
   ]
  },
  {
   "cell_type": "code",
   "execution_count": 21,
   "metadata": {},
   "outputs": [],
   "source": [
    "tn_movie_budgets.release_date = pd.to_datetime(tn_movie_budgets.release_date)"
   ]
  },
  {
   "cell_type": "code",
   "execution_count": 29,
   "metadata": {},
   "outputs": [],
   "source": [
    "### Data Cleaning ###\n",
    "\n",
    "#First taking recent movies from 2010 to 2018 in the tn dataframe\n",
    "tn_movie_budgets = tn_movie_budgets[(tn_movie_budgets.release_date.dt.year > 2009) & (tn_movie_budgets.release_date.dt.year<2019)]"
   ]
  },
  {
   "cell_type": "code",
   "execution_count": 54,
   "metadata": {
    "scrolled": true
   },
   "outputs": [],
   "source": [
    "#Change budget and gross strings into integers\n",
    "tn_movie_budgets['worldwide_gross'] = tn_movie_budgets['worldwide_gross'].str.replace(',', '').str.replace('$','').astype(int)\n",
    "tn_movie_budgets['production_budget'] = tn_movie_budgets['production_budget'].str.replace(',', '').str.replace('$','').astype(int)\n",
    "tn_movie_budgets['domestic_gross'] = tn_movie_budgets['domestic_gross'].str.replace(',', '').str.replace('$','').astype(int)\n",
    "\n",
    "\n"
   ]
  },
  {
   "cell_type": "code",
   "execution_count": 57,
   "metadata": {},
   "outputs": [],
   "source": [
    "tn_movie_budgets[\"worldwide_gross_budget_ratio\"] = tn_movie_budgets['worldwide_gross'] / tn_movie_budgets['production_budget']"
   ]
  },
  {
   "cell_type": "code",
   "execution_count": 59,
   "metadata": {},
   "outputs": [],
   "source": [
    "tn_movie_budgets[\"Earnings\"] = tn_movie_budgets[\"worldwide_gross\"] - tn_movie_budgets[\"production_budget\"]"
   ]
  },
  {
   "cell_type": "code",
   "execution_count": 131,
   "metadata": {
    "scrolled": true
   },
   "outputs": [],
   "source": [
    "tn_movie_budgets.release_date = pd.to_datetime(tn_movie_budgets.release_date)\n",
    "tn_movie_budgets.release_date.head()\n",
    "tn_movie_budgets[\"year\"] = tn_movie_budgets.release_date.dt.year\n"
   ]
  },
  {
   "cell_type": "code",
   "execution_count": 133,
   "metadata": {},
   "outputs": [],
   "source": [
    "Movie_earnings = pd.merge(tn_movie_budgets, imdb_title_basics, left_on=[\"movie\",\"year\" ], right_on=[\"primary_title\", \"start_year\"], how='inner')\n",
    "\n"
   ]
  },
  {
   "cell_type": "code",
   "execution_count": 140,
   "metadata": {},
   "outputs": [
    {
     "data": {
      "text/html": [
       "<div>\n",
       "<style scoped>\n",
       "    .dataframe tbody tr th:only-of-type {\n",
       "        vertical-align: middle;\n",
       "    }\n",
       "\n",
       "    .dataframe tbody tr th {\n",
       "        vertical-align: top;\n",
       "    }\n",
       "\n",
       "    .dataframe thead th {\n",
       "        text-align: right;\n",
       "    }\n",
       "</style>\n",
       "<table border=\"1\" class=\"dataframe\">\n",
       "  <thead>\n",
       "    <tr style=\"text-align: right;\">\n",
       "      <th></th>\n",
       "      <th>id</th>\n",
       "      <th>release_date</th>\n",
       "      <th>movie</th>\n",
       "      <th>production_budget</th>\n",
       "      <th>domestic_gross</th>\n",
       "      <th>worldwide_gross</th>\n",
       "      <th>worldwide_gross_budget_ratio</th>\n",
       "      <th>Earnings</th>\n",
       "      <th>year</th>\n",
       "      <th>tconst</th>\n",
       "      <th>primary_title</th>\n",
       "      <th>original_title</th>\n",
       "      <th>start_year</th>\n",
       "      <th>runtime_minutes</th>\n",
       "      <th>genres</th>\n",
       "    </tr>\n",
       "  </thead>\n",
       "  <tbody>\n",
       "    <tr>\n",
       "      <th>0</th>\n",
       "      <td>2</td>\n",
       "      <td>2011-05-20</td>\n",
       "      <td>Pirates of the Caribbean: On Stranger Tides</td>\n",
       "      <td>410600000</td>\n",
       "      <td>241063875</td>\n",
       "      <td>1045663875</td>\n",
       "      <td>2.546673</td>\n",
       "      <td>635063875</td>\n",
       "      <td>2011</td>\n",
       "      <td>tt1298650</td>\n",
       "      <td>Pirates of the Caribbean: On Stranger Tides</td>\n",
       "      <td>Pirates of the Caribbean: On Stranger Tides</td>\n",
       "      <td>2011</td>\n",
       "      <td>136.0</td>\n",
       "      <td>Action,Adventure,Fantasy</td>\n",
       "    </tr>\n",
       "    <tr>\n",
       "      <th>1</th>\n",
       "      <td>4</td>\n",
       "      <td>2015-05-01</td>\n",
       "      <td>Avengers: Age of Ultron</td>\n",
       "      <td>330600000</td>\n",
       "      <td>459005868</td>\n",
       "      <td>1403013963</td>\n",
       "      <td>4.243841</td>\n",
       "      <td>1072413963</td>\n",
       "      <td>2015</td>\n",
       "      <td>tt2395427</td>\n",
       "      <td>Avengers: Age of Ultron</td>\n",
       "      <td>Avengers: Age of Ultron</td>\n",
       "      <td>2015</td>\n",
       "      <td>141.0</td>\n",
       "      <td>Action,Adventure,Sci-Fi</td>\n",
       "    </tr>\n",
       "    <tr>\n",
       "      <th>2</th>\n",
       "      <td>7</td>\n",
       "      <td>2018-04-27</td>\n",
       "      <td>Avengers: Infinity War</td>\n",
       "      <td>300000000</td>\n",
       "      <td>678815482</td>\n",
       "      <td>2048134200</td>\n",
       "      <td>6.827114</td>\n",
       "      <td>1748134200</td>\n",
       "      <td>2018</td>\n",
       "      <td>tt4154756</td>\n",
       "      <td>Avengers: Infinity War</td>\n",
       "      <td>Avengers: Infinity War</td>\n",
       "      <td>2018</td>\n",
       "      <td>149.0</td>\n",
       "      <td>Action,Adventure,Sci-Fi</td>\n",
       "    </tr>\n",
       "    <tr>\n",
       "      <th>3</th>\n",
       "      <td>9</td>\n",
       "      <td>2017-11-17</td>\n",
       "      <td>Justice League</td>\n",
       "      <td>300000000</td>\n",
       "      <td>229024295</td>\n",
       "      <td>655945209</td>\n",
       "      <td>2.186484</td>\n",
       "      <td>355945209</td>\n",
       "      <td>2017</td>\n",
       "      <td>tt0974015</td>\n",
       "      <td>Justice League</td>\n",
       "      <td>Justice League</td>\n",
       "      <td>2017</td>\n",
       "      <td>120.0</td>\n",
       "      <td>Action,Adventure,Fantasy</td>\n",
       "    </tr>\n",
       "    <tr>\n",
       "      <th>4</th>\n",
       "      <td>10</td>\n",
       "      <td>2015-11-06</td>\n",
       "      <td>Spectre</td>\n",
       "      <td>300000000</td>\n",
       "      <td>200074175</td>\n",
       "      <td>879620923</td>\n",
       "      <td>2.932070</td>\n",
       "      <td>579620923</td>\n",
       "      <td>2015</td>\n",
       "      <td>tt2379713</td>\n",
       "      <td>Spectre</td>\n",
       "      <td>Spectre</td>\n",
       "      <td>2015</td>\n",
       "      <td>148.0</td>\n",
       "      <td>Action,Adventure,Thriller</td>\n",
       "    </tr>\n",
       "  </tbody>\n",
       "</table>\n",
       "</div>"
      ],
      "text/plain": [
       "   id release_date                                        movie  \\\n",
       "0   2   2011-05-20  Pirates of the Caribbean: On Stranger Tides   \n",
       "1   4   2015-05-01                      Avengers: Age of Ultron   \n",
       "2   7   2018-04-27                       Avengers: Infinity War   \n",
       "3   9   2017-11-17                               Justice League   \n",
       "4  10   2015-11-06                                      Spectre   \n",
       "\n",
       "   production_budget  domestic_gross  worldwide_gross  \\\n",
       "0          410600000       241063875       1045663875   \n",
       "1          330600000       459005868       1403013963   \n",
       "2          300000000       678815482       2048134200   \n",
       "3          300000000       229024295        655945209   \n",
       "4          300000000       200074175        879620923   \n",
       "\n",
       "   worldwide_gross_budget_ratio    Earnings  year     tconst  \\\n",
       "0                      2.546673   635063875  2011  tt1298650   \n",
       "1                      4.243841  1072413963  2015  tt2395427   \n",
       "2                      6.827114  1748134200  2018  tt4154756   \n",
       "3                      2.186484   355945209  2017  tt0974015   \n",
       "4                      2.932070   579620923  2015  tt2379713   \n",
       "\n",
       "                                 primary_title  \\\n",
       "0  Pirates of the Caribbean: On Stranger Tides   \n",
       "1                      Avengers: Age of Ultron   \n",
       "2                       Avengers: Infinity War   \n",
       "3                               Justice League   \n",
       "4                                      Spectre   \n",
       "\n",
       "                                original_title  start_year  runtime_minutes  \\\n",
       "0  Pirates of the Caribbean: On Stranger Tides        2011            136.0   \n",
       "1                      Avengers: Age of Ultron        2015            141.0   \n",
       "2                       Avengers: Infinity War        2018            149.0   \n",
       "3                               Justice League        2017            120.0   \n",
       "4                                      Spectre        2015            148.0   \n",
       "\n",
       "                      genres  \n",
       "0   Action,Adventure,Fantasy  \n",
       "1    Action,Adventure,Sci-Fi  \n",
       "2    Action,Adventure,Sci-Fi  \n",
       "3   Action,Adventure,Fantasy  \n",
       "4  Action,Adventure,Thriller  "
      ]
     },
     "execution_count": 140,
     "metadata": {},
     "output_type": "execute_result"
    }
   ],
   "source": [
    "Movie_earnings.head()"
   ]
  },
  {
   "cell_type": "code",
   "execution_count": null,
   "metadata": {},
   "outputs": [],
   "source": []
  }
 ],
 "metadata": {
  "kernelspec": {
   "display_name": "learn-env",
   "language": "python",
   "name": "learn-env"
  },
  "language_info": {
   "codemirror_mode": {
    "name": "ipython",
    "version": 3
   },
   "file_extension": ".py",
   "mimetype": "text/x-python",
   "name": "python",
   "nbconvert_exporter": "python",
   "pygments_lexer": "ipython3",
   "version": "3.6.6"
  }
 },
 "nbformat": 4,
 "nbformat_minor": 2
}
